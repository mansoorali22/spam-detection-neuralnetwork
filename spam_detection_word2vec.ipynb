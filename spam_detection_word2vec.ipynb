{
 "cells": [
  {
   "cell_type": "markdown",
   "id": "3e894279",
   "metadata": {
    "papermill": {
     "duration": 0.010233,
     "end_time": "2024-11-23T09:37:31.963590",
     "exception": false,
     "start_time": "2024-11-23T09:37:31.953357",
     "status": "completed"
    },
    "tags": []
   },
   "source": [
    "# Libraries"
   ]
  },
  {
   "cell_type": "code",
   "execution_count": 1,
   "id": "82a18c36",
   "metadata": {
    "execution": {
     "iopub.execute_input": "2024-11-23T09:37:31.985190Z",
     "iopub.status.busy": "2024-11-23T09:37:31.984402Z",
     "iopub.status.idle": "2024-11-23T09:37:32.845955Z",
     "shell.execute_reply": "2024-11-23T09:37:32.844754Z"
    },
    "papermill": {
     "duration": 0.875833,
     "end_time": "2024-11-23T09:37:32.849075",
     "exception": false,
     "start_time": "2024-11-23T09:37:31.973242",
     "status": "completed"
    },
    "tags": []
   },
   "outputs": [],
   "source": [
    "import pandas as pd\n",
    "import re"
   ]
  },
  {
   "cell_type": "markdown",
   "id": "e766ab05",
   "metadata": {
    "papermill": {
     "duration": 0.016901,
     "end_time": "2024-11-23T09:37:32.884872",
     "exception": false,
     "start_time": "2024-11-23T09:37:32.867971",
     "status": "completed"
    },
    "tags": []
   },
   "source": [
    "# Data Exploration"
   ]
  },
  {
   "cell_type": "code",
   "execution_count": 2,
   "id": "caf33483",
   "metadata": {
    "execution": {
     "iopub.execute_input": "2024-11-23T09:37:32.920556Z",
     "iopub.status.busy": "2024-11-23T09:37:32.919212Z",
     "iopub.status.idle": "2024-11-23T09:37:33.055944Z",
     "shell.execute_reply": "2024-11-23T09:37:33.054863Z"
    },
    "papermill": {
     "duration": 0.15685,
     "end_time": "2024-11-23T09:37:33.058779",
     "exception": false,
     "start_time": "2024-11-23T09:37:32.901929",
     "status": "completed"
    },
    "tags": []
   },
   "outputs": [],
   "source": [
    "df = pd.read_csv('/kaggle/input/spam-or-not-spam-dataset/spam_or_not_spam.csv')"
   ]
  },
  {
   "cell_type": "code",
   "execution_count": 3,
   "id": "fc71de74",
   "metadata": {
    "execution": {
     "iopub.execute_input": "2024-11-23T09:37:33.087554Z",
     "iopub.status.busy": "2024-11-23T09:37:33.086658Z",
     "iopub.status.idle": "2024-11-23T09:37:33.104565Z",
     "shell.execute_reply": "2024-11-23T09:37:33.103404Z"
    },
    "papermill": {
     "duration": 0.034758,
     "end_time": "2024-11-23T09:37:33.107635",
     "exception": false,
     "start_time": "2024-11-23T09:37:33.072877",
     "status": "completed"
    },
    "tags": []
   },
   "outputs": [
    {
     "data": {
      "text/html": [
       "<div>\n",
       "<style scoped>\n",
       "    .dataframe tbody tr th:only-of-type {\n",
       "        vertical-align: middle;\n",
       "    }\n",
       "\n",
       "    .dataframe tbody tr th {\n",
       "        vertical-align: top;\n",
       "    }\n",
       "\n",
       "    .dataframe thead th {\n",
       "        text-align: right;\n",
       "    }\n",
       "</style>\n",
       "<table border=\"1\" class=\"dataframe\">\n",
       "  <thead>\n",
       "    <tr style=\"text-align: right;\">\n",
       "      <th></th>\n",
       "      <th>email</th>\n",
       "      <th>label</th>\n",
       "    </tr>\n",
       "  </thead>\n",
       "  <tbody>\n",
       "    <tr>\n",
       "      <th>0</th>\n",
       "      <td>date wed NUMBER aug NUMBER NUMBER NUMBER NUMB...</td>\n",
       "      <td>0</td>\n",
       "    </tr>\n",
       "    <tr>\n",
       "      <th>1</th>\n",
       "      <td>martin a posted tassos papadopoulos the greek ...</td>\n",
       "      <td>0</td>\n",
       "    </tr>\n",
       "    <tr>\n",
       "      <th>2</th>\n",
       "      <td>man threatens explosion in moscow thursday aug...</td>\n",
       "      <td>0</td>\n",
       "    </tr>\n",
       "    <tr>\n",
       "      <th>3</th>\n",
       "      <td>klez the virus that won t die already the most...</td>\n",
       "      <td>0</td>\n",
       "    </tr>\n",
       "    <tr>\n",
       "      <th>4</th>\n",
       "      <td>in adding cream to spaghetti carbonara which ...</td>\n",
       "      <td>0</td>\n",
       "    </tr>\n",
       "  </tbody>\n",
       "</table>\n",
       "</div>"
      ],
      "text/plain": [
       "                                               email  label\n",
       "0   date wed NUMBER aug NUMBER NUMBER NUMBER NUMB...      0\n",
       "1  martin a posted tassos papadopoulos the greek ...      0\n",
       "2  man threatens explosion in moscow thursday aug...      0\n",
       "3  klez the virus that won t die already the most...      0\n",
       "4   in adding cream to spaghetti carbonara which ...      0"
      ]
     },
     "execution_count": 3,
     "metadata": {},
     "output_type": "execute_result"
    }
   ],
   "source": [
    "df.head()"
   ]
  },
  {
   "cell_type": "code",
   "execution_count": 4,
   "id": "420b9147",
   "metadata": {
    "execution": {
     "iopub.execute_input": "2024-11-23T09:37:33.144103Z",
     "iopub.status.busy": "2024-11-23T09:37:33.143685Z",
     "iopub.status.idle": "2024-11-23T09:37:33.153725Z",
     "shell.execute_reply": "2024-11-23T09:37:33.152626Z"
    },
    "papermill": {
     "duration": 0.03103,
     "end_time": "2024-11-23T09:37:33.156366",
     "exception": false,
     "start_time": "2024-11-23T09:37:33.125336",
     "status": "completed"
    },
    "tags": []
   },
   "outputs": [
    {
     "data": {
      "text/plain": [
       "email    1\n",
       "label    0\n",
       "dtype: int64"
      ]
     },
     "execution_count": 4,
     "metadata": {},
     "output_type": "execute_result"
    }
   ],
   "source": [
    "df.isnull().sum()"
   ]
  },
  {
   "cell_type": "code",
   "execution_count": 5,
   "id": "d3abd635",
   "metadata": {
    "execution": {
     "iopub.execute_input": "2024-11-23T09:37:33.182699Z",
     "iopub.status.busy": "2024-11-23T09:37:33.181648Z",
     "iopub.status.idle": "2024-11-23T09:37:33.206597Z",
     "shell.execute_reply": "2024-11-23T09:37:33.205379Z"
    },
    "papermill": {
     "duration": 0.037784,
     "end_time": "2024-11-23T09:37:33.208782",
     "exception": false,
     "start_time": "2024-11-23T09:37:33.170998",
     "status": "completed"
    },
    "tags": []
   },
   "outputs": [
    {
     "name": "stdout",
     "output_type": "stream",
     "text": [
      "<class 'pandas.core.frame.DataFrame'>\n",
      "RangeIndex: 3000 entries, 0 to 2999\n",
      "Data columns (total 2 columns):\n",
      " #   Column  Non-Null Count  Dtype \n",
      "---  ------  --------------  ----- \n",
      " 0   email   2999 non-null   object\n",
      " 1   label   3000 non-null   int64 \n",
      "dtypes: int64(1), object(1)\n",
      "memory usage: 47.0+ KB\n"
     ]
    }
   ],
   "source": [
    "df.info()"
   ]
  },
  {
   "cell_type": "code",
   "execution_count": 6,
   "id": "739c8e76",
   "metadata": {
    "execution": {
     "iopub.execute_input": "2024-11-23T09:37:33.230263Z",
     "iopub.status.busy": "2024-11-23T09:37:33.229274Z",
     "iopub.status.idle": "2024-11-23T09:37:33.240455Z",
     "shell.execute_reply": "2024-11-23T09:37:33.239509Z"
    },
    "papermill": {
     "duration": 0.024983,
     "end_time": "2024-11-23T09:37:33.242977",
     "exception": false,
     "start_time": "2024-11-23T09:37:33.217994",
     "status": "completed"
    },
    "tags": []
   },
   "outputs": [
    {
     "data": {
      "text/plain": [
       "label\n",
       "0    2500\n",
       "1     500\n",
       "Name: count, dtype: int64"
      ]
     },
     "execution_count": 6,
     "metadata": {},
     "output_type": "execute_result"
    }
   ],
   "source": [
    "df['label'].value_counts()"
   ]
  },
  {
   "cell_type": "markdown",
   "id": "0f782a5e",
   "metadata": {
    "papermill": {
     "duration": 0.009209,
     "end_time": "2024-11-23T09:37:33.267750",
     "exception": false,
     "start_time": "2024-11-23T09:37:33.258541",
     "status": "completed"
    },
    "tags": []
   },
   "source": [
    "# Data Preprocessing"
   ]
  },
  {
   "cell_type": "markdown",
   "id": "c10fa131",
   "metadata": {
    "papermill": {
     "duration": 0.009085,
     "end_time": "2024-11-23T09:37:33.286053",
     "exception": false,
     "start_time": "2024-11-23T09:37:33.276968",
     "status": "completed"
    },
    "tags": []
   },
   "source": [
    "###  Remove missing values"
   ]
  },
  {
   "cell_type": "code",
   "execution_count": 7,
   "id": "03fcd157",
   "metadata": {
    "execution": {
     "iopub.execute_input": "2024-11-23T09:37:33.307535Z",
     "iopub.status.busy": "2024-11-23T09:37:33.306607Z",
     "iopub.status.idle": "2024-11-23T09:37:33.316431Z",
     "shell.execute_reply": "2024-11-23T09:37:33.315507Z"
    },
    "papermill": {
     "duration": 0.022825,
     "end_time": "2024-11-23T09:37:33.318536",
     "exception": false,
     "start_time": "2024-11-23T09:37:33.295711",
     "status": "completed"
    },
    "tags": []
   },
   "outputs": [],
   "source": [
    "# Identify the row with the missing email\n",
    "missing_email_index = df[df['email'].isnull()].index\n",
    "\n",
    "# Drop the row\n",
    "df = df.drop(missing_email_index)"
   ]
  },
  {
   "cell_type": "markdown",
   "id": "8be46f10",
   "metadata": {
    "papermill": {
     "duration": 0.009237,
     "end_time": "2024-11-23T09:37:33.337435",
     "exception": false,
     "start_time": "2024-11-23T09:37:33.328198",
     "status": "completed"
    },
    "tags": []
   },
   "source": [
    "### Balancing Dataset"
   ]
  },
  {
   "cell_type": "code",
   "execution_count": 8,
   "id": "c3573d0e",
   "metadata": {
    "execution": {
     "iopub.execute_input": "2024-11-23T09:37:33.358413Z",
     "iopub.status.busy": "2024-11-23T09:37:33.357930Z",
     "iopub.status.idle": "2024-11-23T09:37:33.365775Z",
     "shell.execute_reply": "2024-11-23T09:37:33.364752Z"
    },
    "papermill": {
     "duration": 0.020887,
     "end_time": "2024-11-23T09:37:33.367961",
     "exception": false,
     "start_time": "2024-11-23T09:37:33.347074",
     "status": "completed"
    },
    "tags": []
   },
   "outputs": [],
   "source": [
    "# Separate spam and not spam messages\n",
    "spam_df = df[df['label'] == 1]\n",
    "not_spam_df = df[df['label'] == 0]"
   ]
  },
  {
   "cell_type": "markdown",
   "id": "44c5aa3c",
   "metadata": {
    "papermill": {
     "duration": 0.009868,
     "end_time": "2024-11-23T09:37:33.387527",
     "exception": false,
     "start_time": "2024-11-23T09:37:33.377659",
     "status": "completed"
    },
    "tags": []
   },
   "source": [
    "### Undersampling Not Spam Message"
   ]
  },
  {
   "cell_type": "code",
   "execution_count": 9,
   "id": "8b2d8a48",
   "metadata": {
    "execution": {
     "iopub.execute_input": "2024-11-23T09:37:33.408419Z",
     "iopub.status.busy": "2024-11-23T09:37:33.407927Z",
     "iopub.status.idle": "2024-11-23T09:37:33.416347Z",
     "shell.execute_reply": "2024-11-23T09:37:33.415382Z"
    },
    "papermill": {
     "duration": 0.021223,
     "end_time": "2024-11-23T09:37:33.418333",
     "exception": false,
     "start_time": "2024-11-23T09:37:33.397110",
     "status": "completed"
    },
    "tags": []
   },
   "outputs": [],
   "source": [
    "# Randomly sample 500 not spam messages\n",
    "not_spam_sampled_df = not_spam_df.sample(n=500, random_state=42)"
   ]
  },
  {
   "cell_type": "markdown",
   "id": "d712f664",
   "metadata": {
    "papermill": {
     "duration": 0.009231,
     "end_time": "2024-11-23T09:37:33.436998",
     "exception": false,
     "start_time": "2024-11-23T09:37:33.427767",
     "status": "completed"
    },
    "tags": []
   },
   "source": [
    "### Combining Balanced Dataset"
   ]
  },
  {
   "cell_type": "code",
   "execution_count": 10,
   "id": "3ff15084",
   "metadata": {
    "execution": {
     "iopub.execute_input": "2024-11-23T09:37:33.457669Z",
     "iopub.status.busy": "2024-11-23T09:37:33.457195Z",
     "iopub.status.idle": "2024-11-23T09:37:33.463174Z",
     "shell.execute_reply": "2024-11-23T09:37:33.462236Z"
    },
    "papermill": {
     "duration": 0.018784,
     "end_time": "2024-11-23T09:37:33.465100",
     "exception": false,
     "start_time": "2024-11-23T09:37:33.446316",
     "status": "completed"
    },
    "tags": []
   },
   "outputs": [],
   "source": [
    "# Concatenate the spam messages with the sampled not spam messages\n",
    "balanced_df = pd.concat([spam_df, not_spam_sampled_df])"
   ]
  },
  {
   "cell_type": "code",
   "execution_count": 11,
   "id": "b2db201c",
   "metadata": {
    "execution": {
     "iopub.execute_input": "2024-11-23T09:37:33.486721Z",
     "iopub.status.busy": "2024-11-23T09:37:33.485954Z",
     "iopub.status.idle": "2024-11-23T09:37:33.492241Z",
     "shell.execute_reply": "2024-11-23T09:37:33.491283Z"
    },
    "papermill": {
     "duration": 0.019864,
     "end_time": "2024-11-23T09:37:33.494461",
     "exception": false,
     "start_time": "2024-11-23T09:37:33.474597",
     "status": "completed"
    },
    "tags": []
   },
   "outputs": [],
   "source": [
    "# Shuffle the dataset to mix spam and not spam messages\n",
    "balanced_df = balanced_df.sample(frac=1, random_state=42).reset_index(drop=True)"
   ]
  },
  {
   "cell_type": "markdown",
   "id": "dec19d79",
   "metadata": {
    "papermill": {
     "duration": 0.008988,
     "end_time": "2024-11-23T09:37:33.512773",
     "exception": false,
     "start_time": "2024-11-23T09:37:33.503785",
     "status": "completed"
    },
    "tags": []
   },
   "source": [
    "### List of Stop words"
   ]
  },
  {
   "cell_type": "code",
   "execution_count": 12,
   "id": "0a184cfe",
   "metadata": {
    "execution": {
     "iopub.execute_input": "2024-11-23T09:37:33.533243Z",
     "iopub.status.busy": "2024-11-23T09:37:33.532383Z",
     "iopub.status.idle": "2024-11-23T09:37:33.538600Z",
     "shell.execute_reply": "2024-11-23T09:37:33.537508Z"
    },
    "papermill": {
     "duration": 0.019177,
     "end_time": "2024-11-23T09:37:33.541107",
     "exception": false,
     "start_time": "2024-11-23T09:37:33.521930",
     "status": "completed"
    },
    "tags": []
   },
   "outputs": [],
   "source": [
    "stop_words = set([\n",
    "    'the', 'is', 'in', 'and', 'to', 'of', 'a', 'with', 'that', 'this', 'for',\n",
    "    'on', 'it', 'as', 'are', 'at', 'be', 'by', 'from', 'or', 'an', 'was', 'were', 'but', 'not'\n",
    "])"
   ]
  },
  {
   "cell_type": "markdown",
   "id": "7b909636",
   "metadata": {
    "papermill": {
     "duration": 0.00982,
     "end_time": "2024-11-23T09:37:33.568786",
     "exception": false,
     "start_time": "2024-11-23T09:37:33.558966",
     "status": "completed"
    },
    "tags": []
   },
   "source": [
    "### Preprocessing"
   ]
  },
  {
   "cell_type": "code",
   "execution_count": 13,
   "id": "a166a60b",
   "metadata": {
    "execution": {
     "iopub.execute_input": "2024-11-23T09:37:33.590026Z",
     "iopub.status.busy": "2024-11-23T09:37:33.589033Z",
     "iopub.status.idle": "2024-11-23T09:37:33.595912Z",
     "shell.execute_reply": "2024-11-23T09:37:33.594935Z"
    },
    "papermill": {
     "duration": 0.020468,
     "end_time": "2024-11-23T09:37:33.598650",
     "exception": false,
     "start_time": "2024-11-23T09:37:33.578182",
     "status": "completed"
    },
    "tags": []
   },
   "outputs": [],
   "source": [
    "def preprocess_text(text):\n",
    "    # Convert to lowercase\n",
    "    text = text.lower()\n",
    "    # Remove punctuation and special characters\n",
    "    text = re.sub(r'[^a-z\\s]', '', text)\n",
    "    # Tokenize the text\n",
    "    tokens = text.split()\n",
    "    # Remove stop words\n",
    "    tokens = [word for word in tokens if word not in stop_words]\n",
    "    return tokens"
   ]
  },
  {
   "cell_type": "code",
   "execution_count": 14,
   "id": "36d8f64d",
   "metadata": {
    "execution": {
     "iopub.execute_input": "2024-11-23T09:37:33.626042Z",
     "iopub.status.busy": "2024-11-23T09:37:33.625590Z",
     "iopub.status.idle": "2024-11-23T09:37:33.719405Z",
     "shell.execute_reply": "2024-11-23T09:37:33.718404Z"
    },
    "papermill": {
     "duration": 0.108166,
     "end_time": "2024-11-23T09:37:33.722600",
     "exception": false,
     "start_time": "2024-11-23T09:37:33.614434",
     "status": "completed"
    },
    "tags": []
   },
   "outputs": [],
   "source": [
    "# Apply preprocessing to the 'email' column\n",
    "balanced_df['tokens'] = balanced_df['email'].apply(preprocess_text)"
   ]
  },
  {
   "cell_type": "code",
   "execution_count": 15,
   "id": "a4b8426e",
   "metadata": {
    "execution": {
     "iopub.execute_input": "2024-11-23T09:37:33.752174Z",
     "iopub.status.busy": "2024-11-23T09:37:33.751742Z",
     "iopub.status.idle": "2024-11-23T09:37:33.776937Z",
     "shell.execute_reply": "2024-11-23T09:37:33.775839Z"
    },
    "papermill": {
     "duration": 0.038759,
     "end_time": "2024-11-23T09:37:33.779511",
     "exception": false,
     "start_time": "2024-11-23T09:37:33.740752",
     "status": "completed"
    },
    "tags": []
   },
   "outputs": [
    {
     "data": {
      "text/html": [
       "<div>\n",
       "<style scoped>\n",
       "    .dataframe tbody tr th:only-of-type {\n",
       "        vertical-align: middle;\n",
       "    }\n",
       "\n",
       "    .dataframe tbody tr th {\n",
       "        vertical-align: top;\n",
       "    }\n",
       "\n",
       "    .dataframe thead th {\n",
       "        text-align: right;\n",
       "    }\n",
       "</style>\n",
       "<table border=\"1\" class=\"dataframe\">\n",
       "  <thead>\n",
       "    <tr style=\"text-align: right;\">\n",
       "      <th></th>\n",
       "      <th>email</th>\n",
       "      <th>tokens</th>\n",
       "    </tr>\n",
       "  </thead>\n",
       "  <tbody>\n",
       "    <tr>\n",
       "      <th>0</th>\n",
       "      <td>financial power you can depend on very compet...</td>\n",
       "      <td>[financial, power, you, can, depend, very, com...</td>\n",
       "    </tr>\n",
       "    <tr>\n",
       "      <th>1</th>\n",
       "      <td>url URL date NUMBER NUMBER NUMBERtNUMBER NUMBE...</td>\n",
       "      <td>[url, url, date, number, number, numbertnumber...</td>\n",
       "    </tr>\n",
       "    <tr>\n",
       "      <th>2</th>\n",
       "      <td>important information the new domain names are...</td>\n",
       "      <td>[important, information, new, domain, names, f...</td>\n",
       "    </tr>\n",
       "    <tr>\n",
       "      <th>3</th>\n",
       "      <td>take control of your computer with this top o...</td>\n",
       "      <td>[take, control, your, computer, top, line, sof...</td>\n",
       "    </tr>\n",
       "    <tr>\n",
       "      <th>4</th>\n",
       "      <td>url URL date not supplied i feel so tremendous...</td>\n",
       "      <td>[url, url, date, supplied, i, feel, so, tremen...</td>\n",
       "    </tr>\n",
       "  </tbody>\n",
       "</table>\n",
       "</div>"
      ],
      "text/plain": [
       "                                               email  \\\n",
       "0   financial power you can depend on very compet...   \n",
       "1  url URL date NUMBER NUMBER NUMBERtNUMBER NUMBE...   \n",
       "2  important information the new domain names are...   \n",
       "3   take control of your computer with this top o...   \n",
       "4  url URL date not supplied i feel so tremendous...   \n",
       "\n",
       "                                              tokens  \n",
       "0  [financial, power, you, can, depend, very, com...  \n",
       "1  [url, url, date, number, number, numbertnumber...  \n",
       "2  [important, information, new, domain, names, f...  \n",
       "3  [take, control, your, computer, top, line, sof...  \n",
       "4  [url, url, date, supplied, i, feel, so, tremen...  "
      ]
     },
     "execution_count": 15,
     "metadata": {},
     "output_type": "execute_result"
    }
   ],
   "source": [
    "# View the first few tokenized emails\n",
    "balanced_df[['email', 'tokens']].head()"
   ]
  },
  {
   "cell_type": "markdown",
   "id": "db8e4a4d",
   "metadata": {
    "papermill": {
     "duration": 0.0097,
     "end_time": "2024-11-23T09:37:33.807394",
     "exception": false,
     "start_time": "2024-11-23T09:37:33.797694",
     "status": "completed"
    },
    "tags": []
   },
   "source": [
    "### Prepraring datset for Word2Vec"
   ]
  },
  {
   "cell_type": "code",
   "execution_count": 16,
   "id": "ca460170",
   "metadata": {
    "execution": {
     "iopub.execute_input": "2024-11-23T09:37:33.829846Z",
     "iopub.status.busy": "2024-11-23T09:37:33.828852Z",
     "iopub.status.idle": "2024-11-23T09:37:33.834233Z",
     "shell.execute_reply": "2024-11-23T09:37:33.833280Z"
    },
    "papermill": {
     "duration": 0.018765,
     "end_time": "2024-11-23T09:37:33.836316",
     "exception": false,
     "start_time": "2024-11-23T09:37:33.817551",
     "status": "completed"
    },
    "tags": []
   },
   "outputs": [],
   "source": [
    "corpus = balanced_df['tokens'].tolist()"
   ]
  },
  {
   "cell_type": "code",
   "execution_count": 17,
   "id": "fa15784f",
   "metadata": {
    "execution": {
     "iopub.execute_input": "2024-11-23T09:37:33.857845Z",
     "iopub.status.busy": "2024-11-23T09:37:33.856861Z",
     "iopub.status.idle": "2024-11-23T09:37:33.862715Z",
     "shell.execute_reply": "2024-11-23T09:37:33.861605Z"
    },
    "papermill": {
     "duration": 0.018785,
     "end_time": "2024-11-23T09:37:33.864746",
     "exception": false,
     "start_time": "2024-11-23T09:37:33.845961",
     "status": "completed"
    },
    "tags": []
   },
   "outputs": [
    {
     "name": "stdout",
     "output_type": "stream",
     "text": [
      "['financial', 'power', 'you', 'can', 'depend', 'very', 'competitive', 'rates', 'guaranteed', 'number', 'years', 'let', 'aig', 's', 'annuity', 'portfolio', 'work', 'you', 'm', 'best', 'company', 'superior', 'standard', 'poor', 's', 'corp', 'aa', 'very', 'strong', 'fitch', 'aa', 'very', 'strong', 'moody', 's', 'investors', 'service', 'aanumber', 'excellent', 'call', 'today', 'more', 'information', 'number', 'number', 'number', 'please', 'fill', 'out', 'form', 'below', 'more', 'information', 'name', 'e', 'mail', 'phone', 'city', 'state', 'aig', 'annuity', 'insurance', 'company', 'we', 'don', 't', 'want', 'anyone', 'receive', 'our', 'mailings', 'who', 'does', 'wish', 'receive', 'them', 'professional', 'communication', 'sent', 'insurance', 'professionals', 'removed', 'mailing', 'list', 'do', 'reply', 'message', 'instead', 'go', 'here', 'url', 'url', 'legal', 'notice', 'url']\n"
     ]
    }
   ],
   "source": [
    "# Print the first email's tokens\n",
    "print(corpus[0])"
   ]
  },
  {
   "cell_type": "markdown",
   "id": "f62db8c1",
   "metadata": {
    "papermill": {
     "duration": 0.009278,
     "end_time": "2024-11-23T09:37:33.883727",
     "exception": false,
     "start_time": "2024-11-23T09:37:33.874449",
     "status": "completed"
    },
    "tags": []
   },
   "source": [
    "# Word2Vec Implementation"
   ]
  },
  {
   "cell_type": "markdown",
   "id": "ca83c851",
   "metadata": {
    "papermill": {
     "duration": 0.009179,
     "end_time": "2024-11-23T09:37:33.902259",
     "exception": false,
     "start_time": "2024-11-23T09:37:33.893080",
     "status": "completed"
    },
    "tags": []
   },
   "source": [
    "### Build Vocabulary"
   ]
  },
  {
   "cell_type": "code",
   "execution_count": 18,
   "id": "dca228ff",
   "metadata": {
    "execution": {
     "iopub.execute_input": "2024-11-23T09:37:33.922864Z",
     "iopub.status.busy": "2024-11-23T09:37:33.922407Z",
     "iopub.status.idle": "2024-11-23T09:37:33.956591Z",
     "shell.execute_reply": "2024-11-23T09:37:33.955437Z"
    },
    "papermill": {
     "duration": 0.047433,
     "end_time": "2024-11-23T09:37:33.959014",
     "exception": false,
     "start_time": "2024-11-23T09:37:33.911581",
     "status": "completed"
    },
    "tags": []
   },
   "outputs": [
    {
     "name": "stdout",
     "output_type": "stream",
     "text": [
      "Vocabulary Size: 21448\n"
     ]
    }
   ],
   "source": [
    "# Extract all unique words from the corpus\n",
    "vocabulary = set(word for tokens in corpus for word in tokens)\n",
    "vocab_size = len(vocabulary)\n",
    "print(f\"Vocabulary Size: {vocab_size}\")"
   ]
  },
  {
   "cell_type": "code",
   "execution_count": 19,
   "id": "3194642a",
   "metadata": {
    "execution": {
     "iopub.execute_input": "2024-11-23T09:37:33.980751Z",
     "iopub.status.busy": "2024-11-23T09:37:33.980412Z",
     "iopub.status.idle": "2024-11-23T09:37:34.037903Z",
     "shell.execute_reply": "2024-11-23T09:37:34.036885Z"
    },
    "papermill": {
     "duration": 0.070637,
     "end_time": "2024-11-23T09:37:34.040172",
     "exception": false,
     "start_time": "2024-11-23T09:37:33.969535",
     "status": "completed"
    },
    "tags": []
   },
   "outputs": [],
   "source": [
    "# Calculate word frequencies\n",
    "word_counts = {}\n",
    "for tokens in corpus:\n",
    "    for word in tokens:\n",
    "        word_counts[word] = word_counts.get(word, 0) + 1"
   ]
  },
  {
   "cell_type": "markdown",
   "id": "e0d5b9ce",
   "metadata": {
    "papermill": {
     "duration": 0.009516,
     "end_time": "2024-11-23T09:37:34.059803",
     "exception": false,
     "start_time": "2024-11-23T09:37:34.050287",
     "status": "completed"
    },
    "tags": []
   },
   "source": [
    "### Handling Rare Words"
   ]
  },
  {
   "cell_type": "code",
   "execution_count": 20,
   "id": "e1f6ccb4",
   "metadata": {
    "execution": {
     "iopub.execute_input": "2024-11-23T09:37:34.082641Z",
     "iopub.status.busy": "2024-11-23T09:37:34.082215Z",
     "iopub.status.idle": "2024-11-23T09:37:34.098178Z",
     "shell.execute_reply": "2024-11-23T09:37:34.096807Z"
    },
    "papermill": {
     "duration": 0.030679,
     "end_time": "2024-11-23T09:37:34.100682",
     "exception": false,
     "start_time": "2024-11-23T09:37:34.070003",
     "status": "completed"
    },
    "tags": []
   },
   "outputs": [
    {
     "name": "stdout",
     "output_type": "stream",
     "text": [
      "Reduced Vocabulary Size: 7080\n"
     ]
    }
   ],
   "source": [
    "# Remove rare words from the vocabulary\n",
    "min_count = 3\n",
    "vocabulary = set(word for word, count in word_counts.items() if count >= min_count)\n",
    "vocab_size = len(vocabulary)\n",
    "print(f\"Reduced Vocabulary Size: {vocab_size}\")\n",
    "\n",
    "# Rebuild word mappings and reinitialize embeddings\n",
    "word2idx = {word: idx for idx, word in enumerate(vocabulary)}\n",
    "idx2word = {idx: word for word, idx in word2idx.items()}"
   ]
  },
  {
   "cell_type": "code",
   "execution_count": 21,
   "id": "1d9bba1e",
   "metadata": {
    "execution": {
     "iopub.execute_input": "2024-11-23T09:37:34.127762Z",
     "iopub.status.busy": "2024-11-23T09:37:34.126650Z",
     "iopub.status.idle": "2024-11-23T09:37:34.164635Z",
     "shell.execute_reply": "2024-11-23T09:37:34.163463Z"
    },
    "papermill": {
     "duration": 0.051307,
     "end_time": "2024-11-23T09:37:34.167054",
     "exception": false,
     "start_time": "2024-11-23T09:37:34.115747",
     "status": "completed"
    },
    "tags": []
   },
   "outputs": [],
   "source": [
    "# After creating the vocabulary and word2idx, update the corpus\n",
    "filtered_corpus = []\n",
    "for tokens in corpus:\n",
    "    filtered_tokens = [word for word in tokens if word in vocabulary]\n",
    "    if filtered_tokens:  # Ensure the sentence is not empty\n",
    "        filtered_corpus.append(filtered_tokens)"
   ]
  },
  {
   "cell_type": "markdown",
   "id": "251a29cd",
   "metadata": {
    "papermill": {
     "duration": 0.012008,
     "end_time": "2024-11-23T09:37:34.189125",
     "exception": false,
     "start_time": "2024-11-23T09:37:34.177117",
     "status": "completed"
    },
    "tags": []
   },
   "source": [
    "### Initializing Word Embeddings"
   ]
  },
  {
   "cell_type": "code",
   "execution_count": 22,
   "id": "b208fcbc",
   "metadata": {
    "execution": {
     "iopub.execute_input": "2024-11-23T09:37:34.210057Z",
     "iopub.status.busy": "2024-11-23T09:37:34.209669Z",
     "iopub.status.idle": "2024-11-23T09:37:34.217496Z",
     "shell.execute_reply": "2024-11-23T09:37:34.216716Z"
    },
    "papermill": {
     "duration": 0.020567,
     "end_time": "2024-11-23T09:37:34.219435",
     "exception": false,
     "start_time": "2024-11-23T09:37:34.198868",
     "status": "completed"
    },
    "tags": []
   },
   "outputs": [],
   "source": [
    "import numpy as np\n",
    "\n",
    "embedding_size = 10  # As specified in the assignment\n",
    "\n",
    "# Initialize input and output embedding matrices with small random values\n",
    "W_in = np.random.uniform(-0.01, 0.01, (vocab_size, embedding_size))\n",
    "W_out = np.random.uniform(-0.01, 0.01, (vocab_size, embedding_size))\n",
    "# W_in = np.random.uniform(-0.5/embedding_size, 0.5/embedding_size, (vocab_size, embedding_size))\n",
    "# W_out = np.random.uniform(-0.5/embedding_size, 0.5/embedding_size, (vocab_size, embedding_size))"
   ]
  },
  {
   "cell_type": "markdown",
   "id": "84171b17",
   "metadata": {
    "papermill": {
     "duration": 0.009568,
     "end_time": "2024-11-23T09:37:34.238778",
     "exception": false,
     "start_time": "2024-11-23T09:37:34.229210",
     "status": "completed"
    },
    "tags": []
   },
   "source": [
    "### Hyperparameters"
   ]
  },
  {
   "cell_type": "code",
   "execution_count": 23,
   "id": "034a77c7",
   "metadata": {
    "execution": {
     "iopub.execute_input": "2024-11-23T09:37:34.259958Z",
     "iopub.status.busy": "2024-11-23T09:37:34.259187Z",
     "iopub.status.idle": "2024-11-23T09:37:34.263899Z",
     "shell.execute_reply": "2024-11-23T09:37:34.263042Z"
    },
    "papermill": {
     "duration": 0.017272,
     "end_time": "2024-11-23T09:37:34.265676",
     "exception": false,
     "start_time": "2024-11-23T09:37:34.248404",
     "status": "completed"
    },
    "tags": []
   },
   "outputs": [],
   "source": [
    "window_size = 2\n",
    "K = 3\n",
    "epochs = 20\n",
    "initial_alpha = 0.005  # Initial learning rate\n",
    "decay = 0.1  # Learning rate decay factor\n",
    "lambda_reg = 0.01  # Regularization strength\n",
    "# alpha = initial_alpha / (1 + 0.01 * epoch)  # Decay factor"
   ]
  },
  {
   "cell_type": "markdown",
   "id": "0e65c7ce",
   "metadata": {
    "papermill": {
     "duration": 0.009127,
     "end_time": "2024-11-23T09:37:34.284308",
     "exception": false,
     "start_time": "2024-11-23T09:37:34.275181",
     "status": "completed"
    },
    "tags": []
   },
   "source": [
    "### Training Data"
   ]
  },
  {
   "cell_type": "code",
   "execution_count": 24,
   "id": "2f1275de",
   "metadata": {
    "execution": {
     "iopub.execute_input": "2024-11-23T09:37:34.305151Z",
     "iopub.status.busy": "2024-11-23T09:37:34.304274Z",
     "iopub.status.idle": "2024-11-23T09:37:34.319643Z",
     "shell.execute_reply": "2024-11-23T09:37:34.318745Z"
    },
    "papermill": {
     "duration": 0.028047,
     "end_time": "2024-11-23T09:37:34.321721",
     "exception": false,
     "start_time": "2024-11-23T09:37:34.293674",
     "status": "completed"
    },
    "tags": []
   },
   "outputs": [],
   "source": [
    "total_count = sum(word_counts.values())\n",
    "\n",
    "# Calculate the probabilities for negative sampling\n",
    "import math\n",
    "\n",
    "# Calculate probabilities raised to the 3/4 power\n",
    "word_probs = {}\n",
    "for word in vocabulary:\n",
    "    count = word_counts[word]\n",
    "    word_probs[word] = math.pow(count / total_count, 0.75)\n",
    "\n",
    "# Normalize the probabilities\n",
    "total_prob = sum(word_probs.values())\n",
    "word_probs = {word: prob / total_prob for word, prob in word_probs.items()}\n",
    "\n",
    "# Create a list of words and their cumulative probabilities for sampling\n",
    "words_list = list(word_probs.keys())\n",
    "probs_list = [word_probs[word] for word in words_list]\n",
    "cumulative_probs = np.cumsum(probs_list)"
   ]
  },
  {
   "cell_type": "markdown",
   "id": "6fbd7d5c",
   "metadata": {
    "papermill": {
     "duration": 0.009329,
     "end_time": "2024-11-23T09:37:34.341069",
     "exception": false,
     "start_time": "2024-11-23T09:37:34.331740",
     "status": "completed"
    },
    "tags": []
   },
   "source": [
    "### Negative Sample Function"
   ]
  },
  {
   "cell_type": "code",
   "execution_count": 25,
   "id": "3589cddf",
   "metadata": {
    "execution": {
     "iopub.execute_input": "2024-11-23T09:37:34.361458Z",
     "iopub.status.busy": "2024-11-23T09:37:34.361121Z",
     "iopub.status.idle": "2024-11-23T09:37:34.366315Z",
     "shell.execute_reply": "2024-11-23T09:37:34.365433Z"
    },
    "papermill": {
     "duration": 0.017628,
     "end_time": "2024-11-23T09:37:34.368165",
     "exception": false,
     "start_time": "2024-11-23T09:37:34.350537",
     "status": "completed"
    },
    "tags": []
   },
   "outputs": [],
   "source": [
    "def negative_sampling(target_word_idx, K):\n",
    "    negative_sample_indices = []\n",
    "    while len(negative_sample_indices) < K:\n",
    "        rand_prob = np.random.rand()\n",
    "        word_idx = np.searchsorted(cumulative_probs, rand_prob)\n",
    "        if word_idx != target_word_idx and word_idx not in negative_sample_indices:\n",
    "            negative_sample_indices.append(word_idx)\n",
    "    return negative_sample_indices"
   ]
  },
  {
   "cell_type": "markdown",
   "id": "4b8d187c",
   "metadata": {
    "papermill": {
     "duration": 0.009404,
     "end_time": "2024-11-23T09:37:34.387097",
     "exception": false,
     "start_time": "2024-11-23T09:37:34.377693",
     "status": "completed"
    },
    "tags": []
   },
   "source": [
    "### Training Loop"
   ]
  },
  {
   "cell_type": "code",
   "execution_count": 26,
   "id": "ed7f86dd",
   "metadata": {
    "execution": {
     "iopub.execute_input": "2024-11-23T09:37:34.408241Z",
     "iopub.status.busy": "2024-11-23T09:37:34.407294Z",
     "iopub.status.idle": "2024-11-23T09:37:34.418838Z",
     "shell.execute_reply": "2024-11-23T09:37:34.418004Z"
    },
    "papermill": {
     "duration": 0.024117,
     "end_time": "2024-11-23T09:37:34.420850",
     "exception": false,
     "start_time": "2024-11-23T09:37:34.396733",
     "status": "completed"
    },
    "tags": []
   },
   "outputs": [],
   "source": [
    "def sigmoid(x):\n",
    "    if x >= 0:\n",
    "        z = np.exp(-x)\n",
    "        return 1 / (1 + z)\n",
    "    else:\n",
    "        z = np.exp(x)\n",
    "        return z / (1 + z)\n",
    "    \n",
    "\n",
    "def train_on_pair(pos_pair, neg_sample_indices, W_in, W_out, alpha):\n",
    "    max_norm = 1.0  # Reduced gradient clipping threshold\n",
    "\n",
    "    target_idx, context_idx = pos_pair\n",
    "\n",
    "    # Get embeddings\n",
    "    v_w = W_in[target_idx]\n",
    "    v_c = W_out[context_idx]\n",
    "\n",
    "    # Positive sample\n",
    "    score = np.dot(v_w, v_c)\n",
    "    sigmoid_score = sigmoid(score)\n",
    "    loss = -np.log(sigmoid_score + 1e-10)\n",
    "\n",
    "    # Gradients from positive sample\n",
    "    grad_v_w = (sigmoid_score - 1) * v_c\n",
    "    grad_v_c = (sigmoid_score - 1) * v_w\n",
    "\n",
    "    # Negative samples\n",
    "    for neg_idx in neg_sample_indices:\n",
    "        v_neg = W_out[neg_idx]\n",
    "        score_neg = np.dot(v_w, v_neg)\n",
    "        sigmoid_neg = sigmoid(score_neg)\n",
    "        loss += -np.log(1 - sigmoid_neg + 1e-10)\n",
    "\n",
    "        grad_neg = sigmoid_neg\n",
    "        grad_v_w += grad_neg * v_neg\n",
    "        grad_v_neg = grad_neg * v_w\n",
    "\n",
    "        # Regularize and clip grad_v_neg\n",
    "        grad_v_neg += lambda_reg * v_neg\n",
    "        grad_v_neg = np.clip(grad_v_neg, -max_norm, max_norm)\n",
    "\n",
    "        # Update negative sample embeddings\n",
    "        W_out[neg_idx] -= alpha * grad_v_neg\n",
    "\n",
    "    # Add regularization to gradients\n",
    "    grad_v_w += lambda_reg * v_w\n",
    "    grad_v_c += lambda_reg * v_c\n",
    "\n",
    "    # Gradient clipping\n",
    "    grad_v_w = np.clip(grad_v_w, -max_norm, max_norm)\n",
    "    grad_v_c = np.clip(grad_v_c, -max_norm, max_norm)\n",
    "\n",
    "    # Update embeddings\n",
    "    W_in[target_idx] -= alpha * grad_v_w\n",
    "    W_out[context_idx] -= alpha * grad_v_c\n",
    "\n",
    "    # After updating W_in and W_out in train_on_pair\n",
    "    W_in[target_idx] = np.clip(W_in[target_idx], -max_norm, max_norm)\n",
    "    W_out[context_idx] = np.clip(W_out[context_idx], -max_norm, max_norm)\n",
    "\n",
    "\n",
    "    return loss"
   ]
  },
  {
   "cell_type": "code",
   "execution_count": 27,
   "id": "d3b368fa",
   "metadata": {
    "execution": {
     "iopub.execute_input": "2024-11-23T09:37:34.443430Z",
     "iopub.status.busy": "2024-11-23T09:37:34.442249Z",
     "iopub.status.idle": "2024-11-23T09:37:34.601166Z",
     "shell.execute_reply": "2024-11-23T09:37:34.600259Z"
    },
    "papermill": {
     "duration": 0.172556,
     "end_time": "2024-11-23T09:37:34.603448",
     "exception": false,
     "start_time": "2024-11-23T09:37:34.430892",
     "status": "completed"
    },
    "tags": []
   },
   "outputs": [],
   "source": [
    "import numpy as np\n",
    "\n",
    "# Calculate total word counts\n",
    "total_words = sum(word_counts.values())\n",
    "\n",
    "# Compute word frequencies\n",
    "word_freqs = {word: count / total_words for word, count in word_counts.items()}\n",
    "\n",
    "# Define the threshold\n",
    "t = 1e-4\n",
    "\n",
    "# Calculate the probability of keeping each word\n",
    "word_keep_probs = {word: min(1.0, np.sqrt(t / freq)) for word, freq in word_freqs.items()}\n",
    "\n",
    "# Apply subsampling\n",
    "subsampled_corpus = []\n",
    "for sentence in filtered_corpus:\n",
    "    new_sentence = [word for word in sentence if np.random.rand() < word_keep_probs.get(word, 1.0)]\n",
    "    if len(new_sentence) > 1:\n",
    "        subsampled_corpus.append(new_sentence)"
   ]
  },
  {
   "cell_type": "code",
   "execution_count": 28,
   "id": "15e4eea0",
   "metadata": {
    "execution": {
     "iopub.execute_input": "2024-11-23T09:37:34.624608Z",
     "iopub.status.busy": "2024-11-23T09:37:34.624237Z",
     "iopub.status.idle": "2024-11-23T09:46:25.015583Z",
     "shell.execute_reply": "2024-11-23T09:46:25.013084Z"
    },
    "papermill": {
     "duration": 530.435997,
     "end_time": "2024-11-23T09:46:25.049403",
     "exception": false,
     "start_time": "2024-11-23T09:37:34.613406",
     "status": "completed"
    },
    "tags": []
   },
   "outputs": [
    {
     "name": "stdout",
     "output_type": "stream",
     "text": [
      "Epoch 1/20, Total Loss: 756370.2994828305, Average Loss: 2.7725879095274997\n",
      "Embedding Norms - W_in: 1.5328045050039207, W_out: 1.5264771689047587\n",
      "Epoch 2/20, Total Loss: 757215.0743803859, Average Loss: 2.7725847444248646\n",
      "Embedding Norms - W_in: 1.533917970414581, W_out: 1.5199872311931941\n",
      "Epoch 3/20, Total Loss: 756730.6587337652, Average Loss: 2.772577468302832\n",
      "Embedding Norms - W_in: 1.5402735963078331, W_out: 1.5185067844364621\n",
      "Epoch 4/20, Total Loss: 756358.1183288713, Average Loss: 2.772553420901868\n",
      "Embedding Norms - W_in: 1.5622924506330709, W_out: 1.5301375174325724\n",
      "Epoch 5/20, Total Loss: 756538.1336717921, Average Loss: 2.7724815617163676\n",
      "Embedding Norms - W_in: 1.6259781375644191, W_out: 1.5753500369840385\n",
      "Epoch 6/20, Total Loss: 757455.8010433159, Average Loss: 2.7722683823769185\n",
      "Embedding Norms - W_in: 1.7944132542528497, W_out: 1.7060192289329323\n",
      "Epoch 7/20, Total Loss: 754932.494992848, Average Loss: 2.771686235393552\n",
      "Embedding Norms - W_in: 2.1774114672846583, W_out: 2.0167341177463185\n",
      "Epoch 8/20, Total Loss: 756546.3614973305, Average Loss: 2.770197074709561\n",
      "Embedding Norms - W_in: 2.919995478325763, W_out: 2.635822225568199\n",
      "Epoch 9/20, Total Loss: 755984.8660455381, Average Loss: 2.7667126552026513\n",
      "Embedding Norms - W_in: 4.146243231634464, W_out: 3.6831414266389375\n",
      "Epoch 10/20, Total Loss: 753521.6282118297, Average Loss: 2.7597885561311686\n",
      "Embedding Norms - W_in: 5.8817013505625155, W_out: 5.138184503746023\n",
      "Epoch 11/20, Total Loss: 749997.9010546891, Average Loss: 2.748070486573583\n",
      "Embedding Norms - W_in: 8.0732029816601, W_out: 6.978153379579892\n",
      "Epoch 12/20, Total Loss: 745907.457965425, Average Loss: 2.731401309350992\n",
      "Embedding Norms - W_in: 10.589405133131445, W_out: 9.093064775270966\n",
      "Epoch 13/20, Total Loss: 740051.5176264609, Average Loss: 2.709421972711653\n",
      "Embedding Norms - W_in: 13.32851954955326, W_out: 11.383601601348877\n",
      "Epoch 14/20, Total Loss: 732765.8421796071, Average Loss: 2.6836324562519946\n",
      "Embedding Norms - W_in: 16.158171450749414, W_out: 13.799237821660686\n",
      "Epoch 15/20, Total Loss: 726032.0563758415, Average Loss: 2.655586567479797\n",
      "Embedding Norms - W_in: 18.98633463181728, W_out: 16.228947201664855\n",
      "Epoch 16/20, Total Loss: 716812.3555646541, Average Loss: 2.627274197095879\n",
      "Embedding Norms - W_in: 21.713715359896288, W_out: 18.56940853155374\n",
      "Epoch 17/20, Total Loss: 709373.582141913, Average Loss: 2.599809357836782\n",
      "Embedding Norms - W_in: 24.310417743272495, W_out: 20.791282787688527\n",
      "Epoch 18/20, Total Loss: 702400.0155936223, Average Loss: 2.57400640420996\n",
      "Embedding Norms - W_in: 26.739499096399094, W_out: 22.882581345408713\n",
      "Epoch 19/20, Total Loss: 697440.7751898025, Average Loss: 2.550039031487165\n",
      "Embedding Norms - W_in: 29.018537774029863, W_out: 24.850338749460253\n",
      "Epoch 20/20, Total Loss: 689948.6374359436, Average Loss: 2.5274510313351928\n",
      "Embedding Norms - W_in: 31.13730295822214, W_out: 26.684976257430623\n"
     ]
    }
   ],
   "source": [
    "import random\n",
    "\n",
    "losses = []\n",
    "\n",
    "# Training Loop\n",
    "for epoch in range(epochs):\n",
    "    # Adjust the learning rate with decay\n",
    "    alpha = initial_alpha / (1 + decay * epoch)\n",
    "    #alpha = initial_alpha * (decay ** epoch)\n",
    "    total_loss = 0\n",
    "    num_pairs = 0\n",
    "    random.shuffle(subsampled_corpus)\n",
    "    for sentence in subsampled_corpus:\n",
    "        sentence_length = len(sentence)\n",
    "        for i, target_word in enumerate(sentence):\n",
    "            target_word_idx = word2idx[target_word]\n",
    "            # Dynamic context window\n",
    "            dynamic_window = random.randint(1, window_size)\n",
    "            start = max(0, i - dynamic_window)\n",
    "            end = min(sentence_length, i + dynamic_window + 1)\n",
    "            context_words = [sentence[j] for j in range(start, end) if j != i]\n",
    "            for context_word in context_words:\n",
    "                context_word_idx = word2idx[context_word]\n",
    "                pos_pair = (target_word_idx, context_word_idx)\n",
    "                neg_sample_indices = negative_sampling(target_word_idx, K)\n",
    "                loss = train_on_pair(pos_pair, neg_sample_indices, W_in, W_out, alpha)\n",
    "                total_loss += loss\n",
    "                num_pairs += 1\n",
    "    average_loss = total_loss / num_pairs\n",
    "    print(f\"Epoch {epoch + 1}/{epochs}, Total Loss: {total_loss}, Average Loss: {average_loss}\")\n",
    "    losses.append(average_loss)\n",
    "\n",
    "    # Compute and print embedding norms\n",
    "    embedding_norm_in = np.linalg.norm(W_in)\n",
    "    embedding_norm_out = np.linalg.norm(W_out)\n",
    "    print(f\"Embedding Norms - W_in: {embedding_norm_in}, W_out: {embedding_norm_out}\")"
   ]
  },
  {
   "cell_type": "markdown",
   "id": "a4c677dc",
   "metadata": {
    "papermill": {
     "duration": 0.031428,
     "end_time": "2024-11-23T09:46:25.112992",
     "exception": false,
     "start_time": "2024-11-23T09:46:25.081564",
     "status": "completed"
    },
    "tags": []
   },
   "source": [
    "### Validation Loss"
   ]
  },
  {
   "cell_type": "code",
   "execution_count": 29,
   "id": "3e0f33f3",
   "metadata": {
    "execution": {
     "iopub.execute_input": "2024-11-23T09:46:25.149050Z",
     "iopub.status.busy": "2024-11-23T09:46:25.148112Z",
     "iopub.status.idle": "2024-11-23T09:46:26.900690Z",
     "shell.execute_reply": "2024-11-23T09:46:26.899665Z"
    },
    "papermill": {
     "duration": 1.76664,
     "end_time": "2024-11-23T09:46:26.902807",
     "exception": false,
     "start_time": "2024-11-23T09:46:25.136167",
     "status": "completed"
    },
    "tags": []
   },
   "outputs": [
    {
     "name": "stdout",
     "output_type": "stream",
     "text": [
      "Validation Loss after Epoch 20: 1.1632438966824377\n"
     ]
    }
   ],
   "source": [
    "from sklearn.model_selection import train_test_split\n",
    "\n",
    "# Split the corpus\n",
    "train_corpus, val_corpus = train_test_split(filtered_corpus, test_size=0.1, random_state=42)\n",
    "\n",
    "# In your training loop, after each epoch\n",
    "# Calculate validation loss\n",
    "# Calculate validation loss\n",
    "val_loss = 0\n",
    "num_val_pairs = 0\n",
    "for sentence in val_corpus:\n",
    "    sentence_length = len(sentence)\n",
    "    for i, target_word in enumerate(sentence):\n",
    "        target_word_idx = word2idx[target_word]\n",
    "        start = max(0, i - window_size)\n",
    "        end = min(sentence_length, i + window_size + 1)\n",
    "        context_words = [sentence[j] for j in range(start, end) if j != i]\n",
    "        for context_word in context_words:\n",
    "            context_word_idx = word2idx[context_word]\n",
    "            # Compute loss without updating embeddings\n",
    "            score = np.dot(W_in[target_word_idx], W_out[context_word_idx])\n",
    "            sigmoid_score = sigmoid(score)\n",
    "            val_loss += -np.log(sigmoid_score + 1e-10)\n",
    "            num_val_pairs += 1\n",
    "\n",
    "val_average_loss = val_loss / num_val_pairs\n",
    "print(f\"Validation Loss after Epoch {epoch + 1}: {val_average_loss}\")"
   ]
  },
  {
   "cell_type": "markdown",
   "id": "57c71b1e",
   "metadata": {
    "papermill": {
     "duration": 0.01063,
     "end_time": "2024-11-23T09:46:26.923925",
     "exception": false,
     "start_time": "2024-11-23T09:46:26.913295",
     "status": "completed"
    },
    "tags": []
   },
   "source": [
    "### Saving and Testing Embedding"
   ]
  },
  {
   "cell_type": "code",
   "execution_count": 30,
   "id": "489a2693",
   "metadata": {
    "execution": {
     "iopub.execute_input": "2024-11-23T09:46:26.947177Z",
     "iopub.status.busy": "2024-11-23T09:46:26.946624Z",
     "iopub.status.idle": "2024-11-23T09:46:26.997294Z",
     "shell.execute_reply": "2024-11-23T09:46:26.996436Z"
    },
    "papermill": {
     "duration": 0.064976,
     "end_time": "2024-11-23T09:46:26.999681",
     "exception": false,
     "start_time": "2024-11-23T09:46:26.934705",
     "status": "completed"
    },
    "tags": []
   },
   "outputs": [],
   "source": [
    "# Save embeddings\n",
    "# Create a dictionary mapping words to their embeddings\n",
    "word_embeddings = {word: W_in[word2idx[word]] for word in vocabulary}\n",
    "\n",
    "# Optionally, save the embeddings to a file\n",
    "import pickle\n",
    "\n",
    "with open('word_embeddings.pkl', 'wb') as f:\n",
    "    pickle.dump(word_embeddings, f)\n",
    "\n",
    "# Save vocabulary\n",
    "with open('vocabulary.pkl', 'wb') as f:\n",
    "    pickle.dump(vocabulary, f)\n",
    "\n",
    "# Save word2idx mapping\n",
    "with open('word2idx.pkl', 'wb') as f:\n",
    "    pickle.dump(word2idx, f)\n",
    "\n",
    "# Save idx2word mapping\n",
    "with open('idx2word.pkl', 'wb') as f:\n",
    "    pickle.dump(idx2word, f)"
   ]
  },
  {
   "cell_type": "markdown",
   "id": "fb622df8",
   "metadata": {
    "papermill": {
     "duration": 0.010551,
     "end_time": "2024-11-23T09:46:27.021329",
     "exception": false,
     "start_time": "2024-11-23T09:46:27.010778",
     "status": "completed"
    },
    "tags": []
   },
   "source": [
    "### Testing Embeddings"
   ]
  },
  {
   "cell_type": "code",
   "execution_count": 31,
   "id": "29788136",
   "metadata": {
    "execution": {
     "iopub.execute_input": "2024-11-23T09:46:27.044693Z",
     "iopub.status.busy": "2024-11-23T09:46:27.043961Z",
     "iopub.status.idle": "2024-11-23T09:46:27.108091Z",
     "shell.execute_reply": "2024-11-23T09:46:27.107104Z"
    },
    "papermill": {
     "duration": 0.078272,
     "end_time": "2024-11-23T09:46:27.110252",
     "exception": false,
     "start_time": "2024-11-23T09:46:27.031980",
     "status": "completed"
    },
    "tags": []
   },
   "outputs": [
    {
     "name": "stdout",
     "output_type": "stream",
     "text": [
      "Words similar to 'email': [('description', 0.9997452357823864), ('could', 0.9996923810264745), ('razor', 0.9996863524384821), ('time', 0.9996841980817166), ('free', 0.9996792415892908)]\n"
     ]
    }
   ],
   "source": [
    "def cosine_similarity(vec1, vec2):\n",
    "    return np.dot(vec1, vec2) / (np.linalg.norm(vec1) * np.linalg.norm(vec2))\n",
    "\n",
    "# Example: Find words most similar to a given word\n",
    "def find_similar_words(word, word_embeddings, top_n=5):\n",
    "    if word not in word_embeddings:\n",
    "        print(f\"Word '{word}' not in vocabulary.\")\n",
    "        return\n",
    "    target_embedding = word_embeddings[word]\n",
    "    similarities = {}\n",
    "    for other_word, other_embedding in word_embeddings.items():\n",
    "        if other_word != word:\n",
    "            similarity = cosine_similarity(target_embedding, other_embedding)\n",
    "            similarities[other_word] = similarity\n",
    "    # Sort by similarity\n",
    "    sorted_words = sorted(similarities.items(), key=lambda item: item[1], reverse=True)\n",
    "    return sorted_words[:top_n]\n",
    "\n",
    "# Test with a word from your vocabulary\n",
    "similar_words = find_similar_words('email', word_embeddings)\n",
    "print(f\"Words similar to 'email': {similar_words}\")"
   ]
  },
  {
   "cell_type": "code",
   "execution_count": 32,
   "id": "cdc7f930",
   "metadata": {
    "execution": {
     "iopub.execute_input": "2024-11-23T09:46:27.134337Z",
     "iopub.status.busy": "2024-11-23T09:46:27.133180Z",
     "iopub.status.idle": "2024-11-23T09:49:28.132588Z",
     "shell.execute_reply": "2024-11-23T09:49:28.131603Z"
    },
    "papermill": {
     "duration": 181.024828,
     "end_time": "2024-11-23T09:49:28.145956",
     "exception": false,
     "start_time": "2024-11-23T09:46:27.121128",
     "status": "completed"
    },
    "tags": []
   },
   "outputs": [
    {
     "name": "stdout",
     "output_type": "stream",
     "text": [
      "Average Cosine Similarity: 0.9858863969693685\n"
     ]
    }
   ],
   "source": [
    "from itertools import combinations\n",
    "\n",
    "cosine_similarities = []\n",
    "for vec1, vec2 in combinations(word_embeddings.values(), 2):\n",
    "    similarity = cosine_similarity(vec1, vec2)\n",
    "    cosine_similarities.append(similarity)\n",
    "\n",
    "average_similarity = np.mean(cosine_similarities)\n",
    "print(f\"Average Cosine Similarity: {average_similarity}\")"
   ]
  },
  {
   "cell_type": "markdown",
   "id": "16a2d98b",
   "metadata": {
    "papermill": {
     "duration": 0.010728,
     "end_time": "2024-11-23T09:49:28.167617",
     "exception": false,
     "start_time": "2024-11-23T09:49:28.156889",
     "status": "completed"
    },
    "tags": []
   },
   "source": [
    "### Visualization Training"
   ]
  },
  {
   "cell_type": "code",
   "execution_count": 33,
   "id": "ba181598",
   "metadata": {
    "execution": {
     "iopub.execute_input": "2024-11-23T09:49:28.191836Z",
     "iopub.status.busy": "2024-11-23T09:49:28.190940Z",
     "iopub.status.idle": "2024-11-23T09:49:28.195995Z",
     "shell.execute_reply": "2024-11-23T09:49:28.195039Z"
    },
    "papermill": {
     "duration": 0.019318,
     "end_time": "2024-11-23T09:49:28.197935",
     "exception": false,
     "start_time": "2024-11-23T09:49:28.178617",
     "status": "completed"
    },
    "tags": []
   },
   "outputs": [],
   "source": [
    "# from sklearn.decomposition import PCA\n",
    "# import matplotlib.pyplot as plt\n",
    "\n",
    "# # Convert embeddings to a matrix\n",
    "# embedding_matrix = W_in  # or W_out\n",
    "\n",
    "# # Perform PCA\n",
    "# pca = PCA(n_components=2)\n",
    "# reduced_embeddings = pca.fit_transform(embedding_matrix)\n",
    "\n",
    "# # Plot the embeddings\n",
    "# plt.figure(figsize=(12, 12))\n",
    "# for i, word in enumerate(word_embeddings.keys()):\n",
    "#     plt.scatter(reduced_embeddings[i, 0], reduced_embeddings[i, 1])\n",
    "#     plt.annotate(word, (reduced_embeddings[i, 0], reduced_embeddings[i, 1]))\n",
    "# plt.title('PCA of Word Embeddings')\n",
    "# plt.show()"
   ]
  },
  {
   "cell_type": "code",
   "execution_count": 34,
   "id": "d5989ea5",
   "metadata": {
    "execution": {
     "iopub.execute_input": "2024-11-23T09:49:28.221436Z",
     "iopub.status.busy": "2024-11-23T09:49:28.221036Z",
     "iopub.status.idle": "2024-11-23T09:49:28.828177Z",
     "shell.execute_reply": "2024-11-23T09:49:28.827201Z"
    },
    "papermill": {
     "duration": 0.621485,
     "end_time": "2024-11-23T09:49:28.830291",
     "exception": false,
     "start_time": "2024-11-23T09:49:28.208806",
     "status": "completed"
    },
    "tags": []
   },
   "outputs": [
    {
     "data": {
      "image/png": "[encoded data removed]",
      "text/plain": [
       "<Figure size 640x480 with 1 Axes>"
      ]
     },
     "metadata": {},
     "output_type": "display_data"
    }
   ],
   "source": [
    "import matplotlib.pyplot as plt\n",
    "\n",
    "plt.plot(range(1, epochs + 1), losses)\n",
    "plt.xlabel('Epoch')\n",
    "plt.ylabel('Total Loss')\n",
    "plt.title('Training Loss Over Epochs')\n",
    "plt.show()"
   ]
  },
  {
   "cell_type": "code",
   "execution_count": null,
   "id": "e456788a",
   "metadata": {
    "papermill": {
     "duration": 0.010836,
     "end_time": "2024-11-23T09:49:28.852425",
     "exception": false,
     "start_time": "2024-11-23T09:49:28.841589",
     "status": "completed"
    },
    "tags": []
   },
   "outputs": [],
   "source": []
  }
 ],
 "metadata": {
  "kaggle": {
   "accelerator": "none",
   "dataSources": [
    {
     "datasetId": 91827,
     "sourceId": 213216,
     "sourceType": "datasetVersion"
    }
   ],
   "dockerImageVersionId": 30786,
   "isGpuEnabled": false,
   "isInternetEnabled": true,
   "language": "python",
   "sourceType": "notebook"
  },
  "kernelspec": {
   "display_name": "Python 3",
   "language": "python",
   "name": "python3"
  },
  "language_info": {
   "codemirror_mode": {
    "name": "ipython",
    "version": 3
   },
   "file_extension": ".py",
   "mimetype": "text/x-python",
   "name": "python",
   "nbconvert_exporter": "python",
   "pygments_lexer": "ipython3",
   "version": "3.10.14"
  },
  "papermill": {
   "default_parameters": {},
   "duration": 720.606575,
   "end_time": "2024-11-23T09:49:29.985860",
   "environment_variables": {},
   "exception": null,
   "input_path": "__notebook__.ipynb",
   "output_path": "__notebook__.ipynb",
   "parameters": {},
   "start_time": "2024-11-23T09:37:29.379285",
   "version": "2.6.0"
  }
 },
 "nbformat": 4,
 "nbformat_minor": 5
}
